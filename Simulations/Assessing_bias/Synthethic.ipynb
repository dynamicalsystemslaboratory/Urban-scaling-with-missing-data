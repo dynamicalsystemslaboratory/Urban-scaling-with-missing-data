{
 "cells": [
  {
   "cell_type": "code",
   "execution_count": 1,
   "id": "c83cbcf3-3107-4dd6-a96a-dee8b90f88fd",
   "metadata": {},
   "outputs": [],
   "source": [
    "import numpy as np\n",
    "import matplotlib.pyplot as plt\n",
    "import scipy as sp\n",
    "import pandas as pd\n",
    "from numpy import exp, log\n",
    "from scipy.stats import linregress\n",
    "import statsmodels.api as sm"
   ]
  },
  {
   "cell_type": "code",
   "execution_count": 2,
   "id": "29345517-2218-479b-9a4d-4018d5896fea",
   "metadata": {},
   "outputs": [],
   "source": [
    "Bs = np.array([2/3,5/6,7/6,4/3])\n",
    "topks = np.array([0.25,0.5,0.75])\n",
    "sigmas = np.array([0.01,0.05,0.1])\n",
    "Ns = np.array([100,300,500,800,3000])\n",
    "Ntrials = 500"
   ]
  },
  {
   "cell_type": "code",
   "execution_count": 3,
   "id": "ea661c39-c871-4e2e-8208-6e01df9987d6",
   "metadata": {},
   "outputs": [],
   "source": [
    "def regress(x,y):\n",
    "    xdf  = pd.DataFrame({\"X\":x})\n",
    "    X_const = sm.add_constant(xdf)\n",
    "    res = sm.OLS(y, X_const).fit()\n",
    "    slope = res.params[\"X\"]\n",
    "    slope_low = res.conf_int(alpha=0.05).T[\"X\"][0]\n",
    "    slope_hight = res.conf_int(alpha=0.05).T[\"X\"][1]\n",
    "    return slope, slope_low, slope_hight, res.rsquared"
   ]
  },
  {
   "cell_type": "code",
   "execution_count": 5,
   "id": "66452117-985f-4412-a96e-e5740e1bd06a",
   "metadata": {},
   "outputs": [],
   "source": [
    "def Simulate_Normal(N, beta, sigma, topk):\n",
    "    X = np.random.normal(100000, 10000, N)  # Generate X values from a normal distribution\n",
    "    eps = np.random.normal(0, sigma, N)     # Generate noise for Y\n",
    "    Y = X**beta * exp(eps)                  # Generate Y based on X and noise\n",
    "    \n",
    "    # Sort X and Y by Y values in descending order\n",
    "    sorted_indices = np.argsort(-Y)  \n",
    "    X_sorted = X[sorted_indices]\n",
    "    Y_sorted = Y[sorted_indices]\n",
    "    \n",
    "    cumulative_sum_Y = np.cumsum(Y_sorted)\n",
    "    total_sum_Y = np.sum(Y_sorted)\n",
    "    \n",
    "    topk_threshold = total_sum_Y * topk  \n",
    "    selected_idx = np.argmax(cumulative_sum_Y >= topk_threshold) + 1 \n",
    "    \n",
    "    X_hat = X_sorted[:selected_idx]\n",
    "    Y_hat = Y_sorted[:selected_idx]\n",
    "    \n",
    "    return regress(log(X_hat),log(Y_hat))\n",
    "\n",
    "\n",
    "def Simulate_lognormal(N, beta, sigma, topk):\n",
    "    X = np.random.lognormal(10,0.1,N)\n",
    "    eps = np.random.normal(0,sigma,N)\n",
    "    Y = X**(beta)*exp(eps)\n",
    "    sorted_indices = np.argsort(-Y)  # Negative for descending order\n",
    "    X_sorted = X[sorted_indices]\n",
    "    Y_sorted = Y[sorted_indices]\n",
    "    cumulative_sum_Y = np.cumsum(Y_sorted)\n",
    "    total_sum_Y = np.sum(Y_sorted)\n",
    "    topk_threshold = total_sum_Y * topk  # This is the sum threshold for the top k%\n",
    "    selected_idx = np.argmax(cumulative_sum_Y >= topk_threshold) + 1  # Find the cutoff index\n",
    "    X_hat = X_sorted[:selected_idx]\n",
    "    Y_hat = Y_sorted[:selected_idx]\n",
    "    return regress(log(X_hat),log(Y_hat))"
   ]
  },
  {
   "cell_type": "code",
   "execution_count": 6,
   "id": "a6337b1b-23d2-47fe-94b2-f3027ad748d3",
   "metadata": {},
   "outputs": [],
   "source": [
    "df = pd.DataFrame(columns = [\"Distribution\",\"Beta\",\"N\",\"topk\",\"sigma\",\"B_hat\",\"Bh_L\",\"Bh_H\",\"R2\"])\n",
    "for beta in Bs:\n",
    "    for topk in topks:\n",
    "        for sigma in sigmas:\n",
    "            for N in Ns:\n",
    "                for ntraisl in range(Ntrials):\n",
    "                    B_hat, B_hat_low, B_hat_hight, R2 = Simulate_Normal(N, beta, sigma, topk)\n",
    "                    df.loc[len(df.index)] = ['Normal', beta, N, topk, sigma, B_hat, B_hat_low, B_hat_hight, R2] \n",
    "                    B_hat, B_hat_low, B_hat_hight, R2 = Simulate_lognormal(N, beta, sigma, topk)\n",
    "                    df.loc[len(df.index)] = ['Lognormal', beta, N, topk, sigma, B_hat, B_hat_low, B_hat_hight, R2]  "
   ]
  },
  {
   "cell_type": "code",
   "execution_count": 7,
   "id": "22877b1a-d4a3-4b6a-9e21-117d3908ab0a",
   "metadata": {},
   "outputs": [],
   "source": [
    "df.to_csv(\"results_4Ns_topk.csv\")"
   ]
  },
  {
   "cell_type": "code",
   "execution_count": null,
   "id": "f6cc94cb-ea2c-4d4c-8311-df9f5d67e2e0",
   "metadata": {},
   "outputs": [],
   "source": []
  }
 ],
 "metadata": {
  "kernelspec": {
   "display_name": "Python 3 (ipykernel)",
   "language": "python",
   "name": "python3"
  },
  "language_info": {
   "codemirror_mode": {
    "name": "ipython",
    "version": 3
   },
   "file_extension": ".py",
   "mimetype": "text/x-python",
   "name": "python",
   "nbconvert_exporter": "python",
   "pygments_lexer": "ipython3",
   "version": "3.11.6"
  }
 },
 "nbformat": 4,
 "nbformat_minor": 5
}
