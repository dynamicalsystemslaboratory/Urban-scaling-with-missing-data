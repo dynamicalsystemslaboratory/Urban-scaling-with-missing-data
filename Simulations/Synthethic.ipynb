{
 "cells": [
  {
   "cell_type": "code",
   "execution_count": 1,
   "id": "80785d5b",
   "metadata": {},
   "outputs": [],
   "source": [
    "import numpy as np\n",
    "import matplotlib.pyplot as plt\n",
    "import scipy as sp\n",
    "import pandas as pd\n",
    "from numpy import exp, log\n",
    "from scipy.stats import linregress\n",
    "import statsmodels.api as sm"
   ]
  },
  {
   "cell_type": "code",
   "execution_count": 3,
   "id": "851aefef",
   "metadata": {},
   "outputs": [],
   "source": [
    "Bs = np.array([2/3,5/6,7/6,4/3])\n",
    "topks = np.array([0.25,0.5,0.75])\n",
    "sigmas = np.array([0.01,0.05,0.1])\n",
    "Ns = np.array([300,500,800])\n",
    "Ntrials = 500"
   ]
  },
  {
   "cell_type": "code",
   "execution_count": 4,
   "id": "0d27a97d",
   "metadata": {},
   "outputs": [],
   "source": [
    "def regress(x,y):\n",
    "    xdf  = pd.DataFrame({\"X\":x})\n",
    "    X_const = sm.add_constant(xdf)\n",
    "    res = sm.OLS(y, X_const).fit()\n",
    "    slope = res.params[\"X\"]\n",
    "    slope_low = res.conf_int(alpha=0.05).T[\"X\"][0]\n",
    "    slope_high = res.conf_int(alpha=0.05).T[\"X\"][1]\n",
    "    return slope, slope_low, slope_high, res.rsquared"
   ]
  },
  {
   "cell_type": "code",
   "execution_count": 5,
   "id": "5d4bc134",
   "metadata": {},
   "outputs": [],
   "source": [
    "def Simulate_Normal(N, beta, sigma, topk):\n",
    "    X = np.random.normal(100000,10000,N)\n",
    "    eps = np.random.normal(0,sigma,N)\n",
    "    Y = X**(beta)*exp(eps)\n",
    "    X_hat = X[np.where(Y>np.quantile(Y,1-topk))]\n",
    "    Y_hat = Y[np.where(Y>np.quantile(Y,1-topk))]\n",
    "    return regress(log(X_hat),log(Y_hat))\n",
    "\n",
    "def Simulate_lognormal(N, beta, sigma, topk):\n",
    "    X = np.random.lognormal(10,0.1,N)\n",
    "    eps = np.random.normal(0,sigma,N)\n",
    "    Y = X**(beta)*exp(eps)\n",
    "    X_hat = X[np.where(Y>np.quantile(Y,1-topk))]\n",
    "    Y_hat = Y[np.where(Y>np.quantile(Y,1-topk))]\n",
    "    return regress(log(X_hat),log(Y_hat))"
   ]
  },
  {
   "cell_type": "code",
   "execution_count": 6,
   "id": "4818d83c",
   "metadata": {},
   "outputs": [],
   "source": [
    "df = pd.DataFrame(columns = [\"Distribution\",\"Beta\",\"N\",\"topk\",\"sigma\",\"B_hat\",\"Bh_L\",\"Bh_H\",\"R2\"])\n",
    "for beta in Bs:\n",
    "    for topk in topks:\n",
    "        for sigma in sigmas:\n",
    "            for N in Ns:\n",
    "                for ntraisl in range(Ntrials):\n",
    "                    B_hat, B_hat_low, B_hat_high, R2 = Simulate_Normal(N, beta, sigma, topk)\n",
    "                    df.loc[len(df.index)] = ['Normal', beta, N, topk, sigma, B_hat, B_hat_low, B_hat_high, R2] \n",
    "                    B_hat, B_hat_low, B_hat_high, R2 = Simulate_lognormal(N, beta, sigma, topk)\n",
    "                    df.loc[len(df.index)] = ['Lognormal', beta, N, topk, sigma, B_hat, B_hat_low, B_hat_high, R2]          "
   ]
  },
  {
   "cell_type": "code",
   "execution_count": 7,
   "id": "c71ac3f1",
   "metadata": {},
   "outputs": [],
   "source": [
    "df.to_csv(\"results_final_500.csv\")"
   ]
  }
 ],
 "metadata": {
  "kernelspec": {
   "display_name": "Python 3 (ipykernel)",
   "language": "python",
   "name": "python3"
  },
  "language_info": {
   "codemirror_mode": {
    "name": "ipython",
    "version": 3
   },
   "file_extension": ".py",
   "mimetype": "text/x-python",
   "name": "python",
   "nbconvert_exporter": "python",
   "pygments_lexer": "ipython3",
   "version": "3.8.5"
  }
 },
 "nbformat": 4,
 "nbformat_minor": 5
}
