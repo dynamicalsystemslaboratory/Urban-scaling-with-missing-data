{
 "cells": [
  {
   "cell_type": "code",
   "execution_count": 9,
   "id": "557bfaba",
   "metadata": {
    "id": "557bfaba"
   },
   "outputs": [],
   "source": [
    "import numpy as np\n",
    "import matplotlib.pyplot as plt\n",
    "import scipy as sp\n",
    "import pandas as pd\n",
    "from numpy import exp, log\n",
    "from scipy.stats import linregress\n",
    "import statsmodels.api as sm\n",
    "import seaborn as sns\n",
    "from scipy.stats import mannwhitneyu\n",
    "import warnings\n",
    "# warnings.simplefilter(action='ignore', category=FutureWarning)"
   ]
  },
  {
   "cell_type": "code",
   "execution_count": 2,
   "id": "cf332c13",
   "metadata": {
    "id": "cf332c13"
   },
   "outputs": [],
   "source": [
    "def regress(x,y):\n",
    "    xdf  = pd.DataFrame({\"X\":x})\n",
    "    X_const = sm.add_constant(xdf)\n",
    "    res = sm.OLS(y, X_const).fit()\n",
    "    slope = res.params[\"X\"]\n",
    "    slope_low = res.conf_int(alpha=0.05).T[\"X\"][0]\n",
    "    slope_hight = res.conf_int(alpha=0.05).T[\"X\"][1]\n",
    "    return slope, slope_low, slope_hight, res.rsquared"
   ]
  },
  {
   "cell_type": "code",
   "execution_count": 3,
   "id": "5588c69e",
   "metadata": {
    "id": "5588c69e"
   },
   "outputs": [],
   "source": [
    "def Simulate_Normal(N, beta, sigma, topk):\n",
    "    X = np.random.normal(100000, 10000, N)  # Generate X values from a normal distribution\n",
    "    eps = np.random.normal(0, sigma, N)     # Generate noise for Y\n",
    "    Y = X**beta * exp(eps)                  # Generate Y based on X and noise\n",
    "    \n",
    "    # Sort X and Y by Y values in descending order\n",
    "    sorted_indices = np.argsort(-Y)  \n",
    "    X_sorted = X[sorted_indices]\n",
    "    Y_sorted = Y[sorted_indices]\n",
    "\n",
    "    cumulative_sum_Y = np.cumsum(Y_sorted)\n",
    "    total_sum_Y = np.sum(Y_sorted)\n",
    "    \n",
    "    topk_threshold = total_sum_Y * topk  #\n",
    "    selected_idx = np.argmax(cumulative_sum_Y >= topk_threshold) + 1 \n",
    "    \n",
    "    X_hat = X_sorted[:selected_idx]\n",
    "    Y_hat = Y_sorted[:selected_idx]\n",
    "    return regress(log(X_hat),log(Y_hat))"
   ]
  },
  {
   "cell_type": "code",
   "execution_count": 4,
   "id": "5be44998",
   "metadata": {
    "id": "5be44998"
   },
   "outputs": [],
   "source": [
    "Bs = np.array([5/6,7/6])\n",
    "topks = np.array([0.5])\n",
    "sigmas = np.array([0.05])\n",
    "Ns = np.logspace(start = 1, stop = 8, num=8, dtype = int)\n",
    "Ntrials = 50"
   ]
  },
  {
   "cell_type": "code",
   "execution_count": 5,
   "id": "d78fd3c3",
   "metadata": {
    "id": "d78fd3c3",
    "outputId": "9c6f3905-5d52-4d25-cf60-97f968b8e101"
   },
   "outputs": [
    {
     "name": "stdout",
     "output_type": "stream",
     "text": [
      "10\n",
      "100\n",
      "1000\n",
      "10000\n",
      "100000\n",
      "1000000\n",
      "10000000\n",
      "100000000\n",
      "10\n",
      "100\n",
      "1000\n",
      "10000\n",
      "100000\n",
      "1000000\n",
      "10000000\n",
      "100000000\n"
     ]
    }
   ],
   "source": [
    "df = pd.DataFrame(columns = [\"Distribution\",\"Beta\",\"N\",\"topk\",\"sigma\",\"B_hat\",\"Bh_L\",\"Bh_H\",\"R2\"])\n",
    "for beta in Bs:\n",
    "    for topk in topks:\n",
    "        for sigma in sigmas:\n",
    "            for N in Ns:\n",
    "                print(N)\n",
    "                for ntraisl in range(Ntrials):\n",
    "                    B_hat, B_hat_low, B_hat_hight, R2 = Simulate_Normal(N, beta, sigma, topk)\n",
    "                    df.loc[len(df.index)] = ['Normal', beta, N, topk, sigma, B_hat, B_hat_low, B_hat_hight, R2]"
   ]
  },
  {
   "cell_type": "code",
   "execution_count": 5,
   "id": "2adc6289",
   "metadata": {
    "id": "2adc6289"
   },
   "outputs": [
    {
     "ename": "NameError",
     "evalue": "name 'df' is not defined",
     "output_type": "error",
     "traceback": [
      "\u001b[1;31m---------------------------------------------------------------------------\u001b[0m",
      "\u001b[1;31mNameError\u001b[0m                                 Traceback (most recent call last)",
      "Cell \u001b[1;32mIn[5], line 1\u001b[0m\n\u001b[1;32m----> 1\u001b[0m \u001b[43mdf\u001b[49m\u001b[38;5;241m.\u001b[39mto_csv(\u001b[38;5;124m\"\u001b[39m\u001b[38;5;124mConsistency_Results.csv\u001b[39m\u001b[38;5;124m\"\u001b[39m)\n",
      "\u001b[1;31mNameError\u001b[0m: name 'df' is not defined"
     ]
    }
   ],
   "source": [
    "df.to_csv(\"Consistency_Results.csv\")"
   ]
  },
  {
   "cell_type": "markdown",
   "id": "6fe943a6-6d49-4a5d-ad2b-8fa7ecd4b4dd",
   "metadata": {},
   "source": [
    "### Plot"
   ]
  },
  {
   "cell_type": "code",
   "execution_count": 10,
   "id": "72d2f3f5-2aa3-46cc-97dd-5e0af3986f79",
   "metadata": {},
   "outputs": [],
   "source": [
    "df = pd.read_csv(\"Consistency_Results.csv\")\n",
    "df[\"Error\"] = df[\"B_hat\"]-df[\"Beta\"]\n",
    "df[r\"$\\beta$\"] = \"\"\n",
    "df.loc[df[\"Beta\"] == 5/6, r\"$\\beta$\"] = '5/6'\n",
    "df.loc[df[\"Beta\"] == 7/6, r\"$\\beta$\"] = '7/6'"
   ]
  },
  {
   "cell_type": "code",
   "execution_count": 11,
   "id": "47ef4f1f-0722-4c7e-9ce7-569170d6a124",
   "metadata": {},
   "outputs": [],
   "source": [
    "plt.rcParams.update({'font.size' : 12})\n",
    "# sns.set_theme(palette=\"tab10\")"
   ]
  },
  {
   "cell_type": "code",
   "execution_count": 12,
   "id": "7043ec4a-d752-4abc-a079-d5a3d37d9439",
   "metadata": {},
   "outputs": [
    {
     "name": "stderr",
     "output_type": "stream",
     "text": [
      "C:\\Users\\ip2347\\anaconda3\\envs\\CUSP_DS\\Lib\\site-packages\\seaborn\\_oldcore.py:1498: FutureWarning: is_categorical_dtype is deprecated and will be removed in a future version. Use isinstance(dtype, CategoricalDtype) instead\n",
      "  if pd.api.types.is_categorical_dtype(vector):\n",
      "C:\\Users\\ip2347\\anaconda3\\envs\\CUSP_DS\\Lib\\site-packages\\seaborn\\_oldcore.py:1498: FutureWarning: is_categorical_dtype is deprecated and will be removed in a future version. Use isinstance(dtype, CategoricalDtype) instead\n",
      "  if pd.api.types.is_categorical_dtype(vector):\n",
      "C:\\Users\\ip2347\\anaconda3\\envs\\CUSP_DS\\Lib\\site-packages\\seaborn\\_oldcore.py:1498: FutureWarning: is_categorical_dtype is deprecated and will be removed in a future version. Use isinstance(dtype, CategoricalDtype) instead\n",
      "  if pd.api.types.is_categorical_dtype(vector):\n",
      "C:\\Users\\ip2347\\anaconda3\\envs\\CUSP_DS\\Lib\\site-packages\\seaborn\\_oldcore.py:1498: FutureWarning: is_categorical_dtype is deprecated and will be removed in a future version. Use isinstance(dtype, CategoricalDtype) instead\n",
      "  if pd.api.types.is_categorical_dtype(vector):\n",
      "C:\\Users\\ip2347\\anaconda3\\envs\\CUSP_DS\\Lib\\site-packages\\seaborn\\_oldcore.py:1498: FutureWarning: is_categorical_dtype is deprecated and will be removed in a future version. Use isinstance(dtype, CategoricalDtype) instead\n",
      "  if pd.api.types.is_categorical_dtype(vector):\n",
      "C:\\Users\\ip2347\\anaconda3\\envs\\CUSP_DS\\Lib\\site-packages\\seaborn\\_oldcore.py:1498: FutureWarning: is_categorical_dtype is deprecated and will be removed in a future version. Use isinstance(dtype, CategoricalDtype) instead\n",
      "  if pd.api.types.is_categorical_dtype(vector):\n",
      "C:\\Users\\ip2347\\anaconda3\\envs\\CUSP_DS\\Lib\\site-packages\\seaborn\\_oldcore.py:1498: FutureWarning: is_categorical_dtype is deprecated and will be removed in a future version. Use isinstance(dtype, CategoricalDtype) instead\n",
      "  if pd.api.types.is_categorical_dtype(vector):\n",
      "C:\\Users\\ip2347\\anaconda3\\envs\\CUSP_DS\\Lib\\site-packages\\seaborn\\_oldcore.py:1498: FutureWarning: is_categorical_dtype is deprecated and will be removed in a future version. Use isinstance(dtype, CategoricalDtype) instead\n",
      "  if pd.api.types.is_categorical_dtype(vector):\n",
      "C:\\Users\\ip2347\\anaconda3\\envs\\CUSP_DS\\Lib\\site-packages\\seaborn\\_oldcore.py:1498: FutureWarning: is_categorical_dtype is deprecated and will be removed in a future version. Use isinstance(dtype, CategoricalDtype) instead\n",
      "  if pd.api.types.is_categorical_dtype(vector):\n",
      "C:\\Users\\ip2347\\anaconda3\\envs\\CUSP_DS\\Lib\\site-packages\\seaborn\\_oldcore.py:1498: FutureWarning: is_categorical_dtype is deprecated and will be removed in a future version. Use isinstance(dtype, CategoricalDtype) instead\n",
      "  if pd.api.types.is_categorical_dtype(vector):\n",
      "C:\\Users\\ip2347\\anaconda3\\envs\\CUSP_DS\\Lib\\site-packages\\seaborn\\_oldcore.py:1119: FutureWarning: use_inf_as_na option is deprecated and will be removed in a future version. Convert inf values to NaN before operating instead.\n",
      "  with pd.option_context('mode.use_inf_as_na', True):\n",
      "C:\\Users\\ip2347\\anaconda3\\envs\\CUSP_DS\\Lib\\site-packages\\seaborn\\_oldcore.py:1119: FutureWarning: use_inf_as_na option is deprecated and will be removed in a future version. Convert inf values to NaN before operating instead.\n",
      "  with pd.option_context('mode.use_inf_as_na', True):\n"
     ]
    },
    {
     "data": {
      "image/png": "[encoded data removed]",
      "text/plain": [
       "<Figure size 600x600 with 1 Axes>"
      ]
     },
     "metadata": {},
     "output_type": "display_data"
    }
   ],
   "source": [
    "f, ax = plt.subplots(figsize=(6, 6))\n",
    "ax.set(xscale=\"log\")\n",
    "sns.lineplot(data=df, x=\"N\", ax=ax, y=\"Error\", hue = r\"$\\beta$\",\n",
    "             style=r\"$\\beta$\", markers=True, dashes=False);\n",
    "ax.set_title(r\"$\\mathrm{top-}k\\% = 50, \\; \\sigma = 0.05$\")\n",
    "ax.set_ylim([-0.5,0])\n",
    "ax.set_ylabel(r\"$\\hat{\\beta}^\\mathrm{k}-\\beta$\");\n",
    "plt.savefig(\"Consistency.pdf\",bbox_inches=\"tight\",transparent=True)\n",
    "plt.show()"
   ]
  },
  {
   "cell_type": "code",
   "execution_count": null,
   "id": "3289e78c-c2ee-4c15-8a02-22cb16202d0a",
   "metadata": {},
   "outputs": [],
   "source": []
  }
 ],
 "metadata": {
  "colab": {
   "provenance": []
  },
  "kernelspec": {
   "display_name": "Python 3 (ipykernel)",
   "language": "python",
   "name": "python3"
  },
  "language_info": {
   "codemirror_mode": {
    "name": "ipython",
    "version": 3
   },
   "file_extension": ".py",
   "mimetype": "text/x-python",
   "name": "python",
   "nbconvert_exporter": "python",
   "pygments_lexer": "ipython3",
   "version": "3.11.6"
  }
 },
 "nbformat": 4,
 "nbformat_minor": 5
}
